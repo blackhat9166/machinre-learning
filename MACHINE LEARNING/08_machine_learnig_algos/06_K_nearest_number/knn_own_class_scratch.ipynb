{
 "cells": [
  {
   "cell_type": "code",
   "execution_count": 5,
   "metadata": {},
   "outputs": [],
   "source": [
    "import pandas as pd\n",
    "import numpy as np\n",
    "from sklearn.model_selection import train_test_split\n",
    "from sklearn.preprocessing import StandardScaler\n",
    "\n",
    "data =pd.read_csv('C:/Users/HARSHIT/Desktop/ML/DataSETS/ads.csv')\n",
    "x = data.iloc[:,2:4].values\n",
    "y = data.iloc[:,-1].values\n",
    "\n",
    "x_tr, x_te, y_tr, y_te = train_test_split(x,y,test_size=0.2)\n",
    "\n",
    "scaler = StandardScaler()\n",
    "\n",
    "x_tr = scaler.fit_transform(x_tr)\n",
    "x_te = scaler.transform(x_te)\n",
    "\n"
   ]
  },
  {
   "cell_type": "code",
   "execution_count": 7,
   "metadata": {},
   "outputs": [],
   "source": [
    "# create an object for knn\n",
    "import operator\n",
    "from collections import Counter\n",
    "\n",
    "class Knn:\n",
    "    def __init__(self,k):\n",
    "        self.k = k\n",
    "\n",
    "    def fit(self,x_tr,y_tr):\n",
    "        self.x_tr = x_tr\n",
    "        self.y_tr = y_tr\n",
    "        print('training done')\n",
    "\n",
    "    def predict(self,test):\n",
    "        \n",
    "    \n",
    "\n",
    "\n"
   ]
  },
  {
   "cell_type": "code",
   "execution_count": null,
   "metadata": {},
   "outputs": [],
   "source": [
    "myalgo = Knn(k=3)\n",
    "myalgo"
   ]
  }
 ],
 "metadata": {
  "kernelspec": {
   "display_name": "Python 3.10.2 64-bit",
   "language": "python",
   "name": "python3"
  },
  "language_info": {
   "codemirror_mode": {
    "name": "ipython",
    "version": 3
   },
   "file_extension": ".py",
   "mimetype": "text/x-python",
   "name": "python",
   "nbconvert_exporter": "python",
   "pygments_lexer": "ipython3",
   "version": "3.10.2"
  },
  "orig_nbformat": 4,
  "vscode": {
   "interpreter": {
    "hash": "abdf3a67ef29fa258ce944f04b0e9fa85bdd3fdaff7110ce4a594ab728ea07bf"
   }
  }
 },
 "nbformat": 4,
 "nbformat_minor": 2
}
