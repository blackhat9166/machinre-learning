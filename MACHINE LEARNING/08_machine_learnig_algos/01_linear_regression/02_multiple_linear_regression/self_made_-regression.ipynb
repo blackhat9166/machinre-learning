{
 "cells": [
  {
   "cell_type": "code",
   "execution_count": 1,
   "metadata": {},
   "outputs": [],
   "source": [
    "from sklearn.datasets import load_diabetes\n",
    "from sklearn.linear_model import LinearRegression\n",
    "from sklearn.model_selection import train_test_split\n",
    "from sklearn.metrics import r2_score\n",
    "import numpy as np"
   ]
  },
  {
   "cell_type": "code",
   "execution_count": 2,
   "metadata": {},
   "outputs": [],
   "source": [
    "x,y = load_diabetes(return_X_y=True) \n",
    "x_train, x_test, y_train, y_test = train_test_split(x,y,test_size=0.2)"
   ]
  },
  {
   "cell_type": "code",
   "execution_count": 8,
   "metadata": {},
   "outputs": [],
   "source": [
    "class meraLR:\n",
    "    def __init__(self):\n",
    "        self.coef_ = None\n",
    "        self.intercept = None\n",
    "    \n",
    "    def fit(self,x_train,y_train):\n",
    "       x_train =  np.insert(x_train,0,1,axis=1) # its is used for the inseretion of 1 in each coloumn\n",
    "\n",
    "       #calculate the coef\n",
    "       # so we have to calculate the inverse of the matrix XTX and multiply with XYT\n",
    "\n",
    "       betas = np.linalg.inv(np.dot(x_train.T,x_train)).dot(x_train.T).dot(y_train)\n",
    "       self.intercept = betas[0]\n",
    "       self.coef_ = betas[1:]\n",
    "\n",
    "    def predict(self,x_test):\n",
    "        y_pred = np.dot(x_test,self.coef_) + self.intercept\n",
    "        return y_pred\n",
    "       \n",
    "\n"
   ]
  },
  {
   "cell_type": "code",
   "execution_count": 10,
   "metadata": {},
   "outputs": [],
   "source": [
    "model = meraLR()"
   ]
  },
  {
   "cell_type": "code",
   "execution_count": 11,
   "metadata": {},
   "outputs": [],
   "source": [
    "model.fit(x_train,y_train)"
   ]
  },
  {
   "cell_type": "code",
   "execution_count": 12,
   "metadata": {},
   "outputs": [],
   "source": [
    "pred = model.predict(x_test)"
   ]
  },
  {
   "cell_type": "code",
   "execution_count": 13,
   "metadata": {},
   "outputs": [
    {
     "data": {
      "text/plain": [
       "0.5788147203994016"
      ]
     },
     "execution_count": 13,
     "metadata": {},
     "output_type": "execute_result"
    }
   ],
   "source": [
    "r2_score(y_test,pred)"
   ]
  },
  {
   "cell_type": "code",
   "execution_count": null,
   "metadata": {},
   "outputs": [],
   "source": []
  }
 ],
 "metadata": {
  "kernelspec": {
   "display_name": "Python 3.10.2 64-bit",
   "language": "python",
   "name": "python3"
  },
  "language_info": {
   "codemirror_mode": {
    "name": "ipython",
    "version": 3
   },
   "file_extension": ".py",
   "mimetype": "text/x-python",
   "name": "python",
   "nbconvert_exporter": "python",
   "pygments_lexer": "ipython3",
   "version": "3.10.2"
  },
  "orig_nbformat": 4,
  "vscode": {
   "interpreter": {
    "hash": "abdf3a67ef29fa258ce944f04b0e9fa85bdd3fdaff7110ce4a594ab728ea07bf"
   }
  }
 },
 "nbformat": 4,
 "nbformat_minor": 2
}
