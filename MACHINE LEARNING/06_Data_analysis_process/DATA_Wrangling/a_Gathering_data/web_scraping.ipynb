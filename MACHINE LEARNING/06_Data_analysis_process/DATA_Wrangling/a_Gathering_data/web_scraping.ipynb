{
 "cells": [
  {
   "cell_type": "code",
   "execution_count": 99,
   "metadata": {},
   "outputs": [],
   "source": [
    "import pandas as pd\n",
    "import requests\n",
    "from bs4 import BeautifulSoup\n",
    "import numpy as np\n"
   ]
  },
  {
   "cell_type": "markdown",
   "metadata": {},
   "source": [
    "In web-scrpaping we have to extract the data forcefuly from the site\n",
    "- its not like extracting the data from the api, api is only for extraction"
   ]
  },
  {
   "cell_type": "markdown",
   "metadata": {},
   "source": [
    "some times some site will not allow you if you want to directly access the site\n",
    "- so you have to pass a header so that the site dont block you by thinking that you are a bot not a user"
   ]
  },
  {
   "cell_type": "code",
   "execution_count": 9,
   "metadata": {},
   "outputs": [],
   "source": [
    "headers = {'User-Blackhat':'Mozilla/5.0 (Windows NT 6.3; Win64; x64) AppleWeb/537.36 (KHTML, like Gecko) Chrome/80.0.3987.162 Safari/537.36'}"
   ]
  },
  {
   "cell_type": "code",
   "execution_count": 12,
   "metadata": {},
   "outputs": [],
   "source": [
    "webpage = requests.get('https://www.ambitionbox.com/list-of-companies?page=1',headers=headers).text"
   ]
  },
  {
   "cell_type": "code",
   "execution_count": 33,
   "metadata": {},
   "outputs": [
    {
     "data": {
      "text/plain": [
       "'List of companies in India'"
      ]
     },
     "execution_count": 33,
     "metadata": {},
     "output_type": "execute_result"
    }
   ],
   "source": [
    "soup = BeautifulSoup(webpage,'html.parser')\n",
    "soup.find_all('h1')[0].text\n"
   ]
  },
  {
   "cell_type": "code",
   "execution_count": 30,
   "metadata": {},
   "outputs": [
    {
     "name": "stdout",
     "output_type": "stream",
     "text": [
      "TCS\n",
      "Accenture\n",
      "Cognizant\n",
      "ICICI Bank\n",
      "Wipro\n",
      "HDFC Bank\n",
      "Capgemini\n",
      "HCL Technologies\n",
      "Infosys\n",
      "Tech Mahindra\n",
      "Genpact\n",
      "Axis Bank\n",
      "IBM\n",
      "Amazon\n",
      "Concentrix Corpo...\n",
      "Larsen & Toubro ...\n",
      "Reliance jio\n",
      "Vodafone Idea\n",
      "HDB Financial Se...\n",
      "Teleperformance\n",
      "Kotak Mahindra B...\n",
      "Reliance Industr...\n",
      "Bharti Airtel\n",
      "Deloitte\n",
      "Tata Motors\n",
      "Reliance Retail\n",
      "Mahindra & Mahin...\n",
      "WNS\n",
      "IndusInd Bank\n",
      "DXC Technology\n"
     ]
    }
   ],
   "source": [
    "#so we have total 30 comapanies here\n",
    "soup.prettify()\n",
    "for i in soup.find_all('h2'):\n",
    "    print(i.text.strip())   # .strip() is used to remove the extra format added "
   ]
  },
  {
   "cell_type": "code",
   "execution_count": 66,
   "metadata": {},
   "outputs": [
    {
     "ename": "AttributeError",
     "evalue": "ResultSet object has no attribute 'text'. You're probably treating a list of elements like a single element. Did you call find_all() when you meant to call find()?",
     "output_type": "error",
     "traceback": [
      "\u001b[1;31m---------------------------------------------------------------------------\u001b[0m",
      "\u001b[1;31mAttributeError\u001b[0m                            Traceback (most recent call last)",
      "\u001b[1;32mc:\\Users\\HARSHIT\\Desktop\\ML\\Data_analysis_process\\web_scraping.ipynb Cell 8\u001b[0m in \u001b[0;36m<cell line: 1>\u001b[1;34m()\u001b[0m\n\u001b[1;32m----> <a href='vscode-notebook-cell:/c%3A/Users/HARSHIT/Desktop/ML/Data_analysis_process/web_scraping.ipynb#ch0000007?line=0'>1</a>\u001b[0m soup\u001b[39m.\u001b[39;49mfind_all(\u001b[39m'\u001b[39;49m\u001b[39mp\u001b[39;49m\u001b[39m'\u001b[39;49m, class_\u001b[39m=\u001b[39;49m \u001b[39m'\u001b[39;49m\u001b[39mrating\u001b[39;49m\u001b[39m'\u001b[39;49m)\u001b[39m.\u001b[39;49mtext\u001b[39m.\u001b[39mstrip()\n",
      "File \u001b[1;32mc:\\Users\\HARSHIT\\AppData\\Local\\Programs\\Python\\Python310\\lib\\site-packages\\bs4\\element.py:2289\u001b[0m, in \u001b[0;36mResultSet.__getattr__\u001b[1;34m(self, key)\u001b[0m\n\u001b[0;32m   2287\u001b[0m \u001b[39mdef\u001b[39;00m \u001b[39m__getattr__\u001b[39m(\u001b[39mself\u001b[39m, key):\n\u001b[0;32m   2288\u001b[0m     \u001b[39m\"\"\"Raise a helpful exception to explain a common code fix.\"\"\"\u001b[39;00m\n\u001b[1;32m-> 2289\u001b[0m     \u001b[39mraise\u001b[39;00m \u001b[39mAttributeError\u001b[39;00m(\n\u001b[0;32m   2290\u001b[0m         \u001b[39m\"\u001b[39m\u001b[39mResultSet object has no attribute \u001b[39m\u001b[39m'\u001b[39m\u001b[39m%s\u001b[39;00m\u001b[39m'\u001b[39m\u001b[39m. You\u001b[39m\u001b[39m'\u001b[39m\u001b[39mre probably treating a list of elements like a single element. Did you call find_all() when you meant to call find()?\u001b[39m\u001b[39m\"\u001b[39m \u001b[39m%\u001b[39m key\n\u001b[0;32m   2291\u001b[0m     )\n",
      "\u001b[1;31mAttributeError\u001b[0m: ResultSet object has no attribute 'text'. You're probably treating a list of elements like a single element. Did you call find_all() when you meant to call find()?"
     ]
    }
   ],
   "source": [
    "soup.find_all('p', class_= 'rating').text.strip()\n",
    "# do here we cant get stripped out text values on findall directly so we have to make loop to individually stipped out"
   ]
  },
  {
   "cell_type": "code",
   "execution_count": 67,
   "metadata": {},
   "outputs": [
    {
     "data": {
      "text/plain": [
       "'(45.4k Reviews)'"
      ]
     },
     "execution_count": 67,
     "metadata": {},
     "output_type": "execute_result"
    }
   ],
   "source": [
    "soup.find_all('a',class_='review-count')[0].text.strip()\n",
    "# here the single value can be easily striped out"
   ]
  },
  {
   "cell_type": "markdown",
   "metadata": {},
   "source": [
    "so here we get in trouble as we are nor scraping in the right way"
   ]
  },
  {
   "cell_type": "code",
   "execution_count": 77,
   "metadata": {},
   "outputs": [
    {
     "data": {
      "text/plain": [
       "[<i class=\"line one\"></i>,\n",
       " <i class=\"line two\"></i>,\n",
       " <i class=\"line thr\"></i>,\n",
       " <i class=\"icon-chevron-right\" data-v-6a0700ed=\"\"></i>,\n",
       " <i class=\"icon-chevron-right\"></i>,\n",
       " <i class=\"icon icon-star\"></i>,\n",
       " <i class=\"icon-domain\"></i>,\n",
       " <i class=\"icon-pin-drop\"></i>,\n",
       " <i class=\"icon-access-time\"></i>,\n",
       " <i class=\"icon-supervisor-account\"></i>,\n",
       " <i class=\"icon icon-star\"></i>,\n",
       " <i class=\"icon-domain\"></i>,\n",
       " <i class=\"icon-pin-drop\"></i>,\n",
       " <i class=\"icon-access-time\"></i>,\n",
       " <i class=\"icon-supervisor-account\"></i>,\n",
       " <i class=\"icon icon-star\"></i>,\n",
       " <i class=\"icon-domain\"></i>,\n",
       " <i class=\"icon-pin-drop\"></i>,\n",
       " <i class=\"icon-access-time\"></i>,\n",
       " <i class=\"icon-supervisor-account\"></i>,\n",
       " <i class=\"icon icon-star\"></i>,\n",
       " <i class=\"icon-domain\"></i>,\n",
       " <i class=\"icon-pin-drop\"></i>,\n",
       " <i class=\"icon-access-time\"></i>,\n",
       " <i class=\"icon-supervisor-account\"></i>,\n",
       " <i class=\"icon icon-star\"></i>,\n",
       " <i class=\"icon-domain\"></i>,\n",
       " <i class=\"icon-pin-drop\"></i>,\n",
       " <i class=\"icon-access-time\"></i>,\n",
       " <i class=\"icon-supervisor-account\"></i>,\n",
       " <i class=\"icon icon-star\"></i>,\n",
       " <i class=\"icon-domain\"></i>,\n",
       " <i class=\"icon-pin-drop\"></i>,\n",
       " <i class=\"icon-access-time\"></i>,\n",
       " <i class=\"icon-supervisor-account\"></i>,\n",
       " <i class=\"icon icon-star\"></i>,\n",
       " <i class=\"icon-domain\"></i>,\n",
       " <i class=\"icon-pin-drop\"></i>,\n",
       " <i class=\"icon-access-time\"></i>,\n",
       " <i class=\"icon-supervisor-account\"></i>,\n",
       " <i class=\"icon icon-star\"></i>,\n",
       " <i class=\"icon-domain\"></i>,\n",
       " <i class=\"icon-pin-drop\"></i>,\n",
       " <i class=\"icon-access-time\"></i>,\n",
       " <i class=\"icon-supervisor-account\"></i>,\n",
       " <i class=\"icon icon-star\"></i>,\n",
       " <i class=\"icon-domain\"></i>,\n",
       " <i class=\"icon-pin-drop\"></i>,\n",
       " <i class=\"icon-access-time\"></i>,\n",
       " <i class=\"icon-supervisor-account\"></i>,\n",
       " <i class=\"icon icon-star\"></i>,\n",
       " <i class=\"icon-domain\"></i>,\n",
       " <i class=\"icon-pin-drop\"></i>,\n",
       " <i class=\"icon-access-time\"></i>,\n",
       " <i class=\"icon-supervisor-account\"></i>,\n",
       " <i class=\"icon icon-star\"></i>,\n",
       " <i class=\"icon-domain\"></i>,\n",
       " <i class=\"icon-pin-drop\"></i>,\n",
       " <i class=\"icon-access-time\"></i>,\n",
       " <i class=\"icon-supervisor-account\"></i>,\n",
       " <i class=\"icon icon-star\"></i>,\n",
       " <i class=\"icon-domain\"></i>,\n",
       " <i class=\"icon-pin-drop\"></i>,\n",
       " <i class=\"icon-access-time\"></i>,\n",
       " <i class=\"icon-supervisor-account\"></i>,\n",
       " <i class=\"icon icon-star\"></i>,\n",
       " <i class=\"icon-domain\"></i>,\n",
       " <i class=\"icon-pin-drop\"></i>,\n",
       " <i class=\"icon-access-time\"></i>,\n",
       " <i class=\"icon-supervisor-account\"></i>,\n",
       " <i class=\"icon icon-star\"></i>,\n",
       " <i class=\"icon-domain\"></i>,\n",
       " <i class=\"icon-pin-drop\"></i>,\n",
       " <i class=\"icon-access-time\"></i>,\n",
       " <i class=\"icon-supervisor-account\"></i>,\n",
       " <i class=\"icon icon-star\"></i>,\n",
       " <i class=\"icon-domain\"></i>,\n",
       " <i class=\"icon-pin-drop\"></i>,\n",
       " <i class=\"icon-access-time\"></i>,\n",
       " <i class=\"icon-supervisor-account\"></i>,\n",
       " <i class=\"icon icon-star\"></i>,\n",
       " <i class=\"icon-domain\"></i>,\n",
       " <i class=\"icon-pin-drop\"></i>,\n",
       " <i class=\"icon-access-time\"></i>,\n",
       " <i class=\"icon-supervisor-account\"></i>,\n",
       " <i class=\"icon icon-star\"></i>,\n",
       " <i class=\"icon-domain\"></i>,\n",
       " <i class=\"icon-pin-drop\"></i>,\n",
       " <i class=\"icon-access-time\"></i>,\n",
       " <i class=\"icon-supervisor-account\"></i>,\n",
       " <i class=\"icon icon-star\"></i>,\n",
       " <i class=\"icon-domain\"></i>,\n",
       " <i class=\"icon-pin-drop\"></i>,\n",
       " <i class=\"icon-access-time\"></i>,\n",
       " <i class=\"icon-supervisor-account\"></i>,\n",
       " <i class=\"icon icon-star\"></i>,\n",
       " <i class=\"icon-domain\"></i>,\n",
       " <i class=\"icon-pin-drop\"></i>,\n",
       " <i class=\"icon-access-time\"></i>,\n",
       " <i class=\"icon-supervisor-account\"></i>,\n",
       " <i class=\"icon icon-star\"></i>,\n",
       " <i class=\"icon-domain\"></i>,\n",
       " <i class=\"icon-pin-drop\"></i>,\n",
       " <i class=\"icon-access-time\"></i>,\n",
       " <i class=\"icon-supervisor-account\"></i>,\n",
       " <i class=\"icon icon-star\"></i>,\n",
       " <i class=\"icon-domain\"></i>,\n",
       " <i class=\"icon-pin-drop\"></i>,\n",
       " <i class=\"icon-access-time\"></i>,\n",
       " <i class=\"icon-supervisor-account\"></i>,\n",
       " <i class=\"icon icon-star\"></i>,\n",
       " <i class=\"icon-domain\"></i>,\n",
       " <i class=\"icon-pin-drop\"></i>,\n",
       " <i class=\"icon-access-time\"></i>,\n",
       " <i class=\"icon-supervisor-account\"></i>,\n",
       " <i class=\"icon icon-star\"></i>,\n",
       " <i class=\"icon-domain\"></i>,\n",
       " <i class=\"icon-pin-drop\"></i>,\n",
       " <i class=\"icon-access-time\"></i>,\n",
       " <i class=\"icon-supervisor-account\"></i>,\n",
       " <i class=\"icon icon-star\"></i>,\n",
       " <i class=\"icon-domain\"></i>,\n",
       " <i class=\"icon-pin-drop\"></i>,\n",
       " <i class=\"icon-access-time\"></i>,\n",
       " <i class=\"icon-supervisor-account\"></i>,\n",
       " <i class=\"icon icon-star\"></i>,\n",
       " <i class=\"icon-domain\"></i>,\n",
       " <i class=\"icon-pin-drop\"></i>,\n",
       " <i class=\"icon-access-time\"></i>,\n",
       " <i class=\"icon-supervisor-account\"></i>,\n",
       " <i class=\"icon icon-star\"></i>,\n",
       " <i class=\"icon-domain\"></i>,\n",
       " <i class=\"icon-pin-drop\"></i>,\n",
       " <i class=\"icon-access-time\"></i>,\n",
       " <i class=\"icon-supervisor-account\"></i>,\n",
       " <i class=\"icon icon-star\"></i>,\n",
       " <i class=\"icon-domain\"></i>,\n",
       " <i class=\"icon-pin-drop\"></i>,\n",
       " <i class=\"icon-access-time\"></i>,\n",
       " <i class=\"icon-supervisor-account\"></i>,\n",
       " <i class=\"icon icon-star\"></i>,\n",
       " <i class=\"icon-domain\"></i>,\n",
       " <i class=\"icon-pin-drop\"></i>,\n",
       " <i class=\"icon-access-time\"></i>,\n",
       " <i class=\"icon-supervisor-account\"></i>,\n",
       " <i class=\"icon icon-star\"></i>,\n",
       " <i class=\"icon-domain\"></i>,\n",
       " <i class=\"icon-pin-drop\"></i>,\n",
       " <i class=\"icon-access-time\"></i>,\n",
       " <i class=\"icon-supervisor-account\"></i>,\n",
       " <i class=\"icon icon-star\"></i>,\n",
       " <i class=\"icon-domain\"></i>,\n",
       " <i class=\"icon-pin-drop\"></i>,\n",
       " <i class=\"icon-access-time\"></i>,\n",
       " <i class=\"icon-supervisor-account\"></i>,\n",
       " <i class=\"icon-chevron-right next nav-btn\"></i>,\n",
       " <i class=\"icon-chevron-right\" data-v-6a0700ed=\"\"></i>]"
      ]
     },
     "execution_count": 77,
     "metadata": {},
     "output_type": "execute_result"
    }
   ],
   "source": [
    "soup.find_all('i')"
   ]
  },
  {
   "cell_type": "code",
   "execution_count": 49,
   "metadata": {},
   "outputs": [
    {
     "data": {
      "text/plain": [
       "30"
      ]
     },
     "execution_count": 49,
     "metadata": {},
     "output_type": "execute_result"
    }
   ],
   "source": [
    "# proper way:--\n",
    "# we took the whole div in which all companies are there in one page\n",
    "company = soup.find_all('div', class_='company-content-wrapper')\n",
    "len(company)"
   ]
  },
  {
   "cell_type": "code",
   "execution_count": 98,
   "metadata": {},
   "outputs": [
    {
     "ename": "TypeError",
     "evalue": "'NoneType' object is not subscriptable",
     "output_type": "error",
     "traceback": [
      "\u001b[1;31m---------------------------------------------------------------------------\u001b[0m",
      "\u001b[1;31mTypeError\u001b[0m                                 Traceback (most recent call last)",
      "\u001b[1;32mc:\\Users\\HARSHIT\\Desktop\\ML\\Data_analysis_process\\web_scraping.ipynb Cell 13\u001b[0m in \u001b[0;36m<cell line: 9>\u001b[1;34m()\u001b[0m\n\u001b[0;32m     <a href='vscode-notebook-cell:/c%3A/Users/HARSHIT/Desktop/ML/Data_analysis_process/web_scraping.ipynb#ch0000011?line=12'>13</a>\u001b[0m \u001b[39mtype\u001b[39m\u001b[39m.\u001b[39mappend(i\u001b[39m.\u001b[39mfind(\u001b[39m'\u001b[39m\u001b[39mp\u001b[39m\u001b[39m'\u001b[39m,class_\u001b[39m=\u001b[39m\u001b[39m'\u001b[39m\u001b[39minfoEntity\u001b[39m\u001b[39m'\u001b[39m)\u001b[39m.\u001b[39mtext\u001b[39m.\u001b[39mstrip())\n\u001b[0;32m     <a href='vscode-notebook-cell:/c%3A/Users/HARSHIT/Desktop/ML/Data_analysis_process/web_scraping.ipynb#ch0000011?line=13'>14</a>\u001b[0m number_employee\u001b[39m.\u001b[39mappend(i\u001b[39m.\u001b[39mfind_all(\u001b[39m'\u001b[39m\u001b[39mp\u001b[39m\u001b[39m'\u001b[39m, class_\u001b[39m=\u001b[39m\u001b[39m'\u001b[39m\u001b[39minfoEntity\u001b[39m\u001b[39m'\u001b[39m)[\u001b[39m3\u001b[39m]\u001b[39m.\u001b[39mtext\u001b[39m.\u001b[39mstrip())\n\u001b[1;32m---> <a href='vscode-notebook-cell:/c%3A/Users/HARSHIT/Desktop/ML/Data_analysis_process/web_scraping.ipynb#ch0000011?line=14'>15</a>\u001b[0m sal\u001b[39m.\u001b[39mappend(i\u001b[39m.\u001b[39;49mfind(\u001b[39m'\u001b[39;49m\u001b[39ma\u001b[39;49m\u001b[39m'\u001b[39;49m,class_\u001b[39m=\u001b[39;49m\u001b[39m'\u001b[39;49m\u001b[39mcaption-subdued-large\u001b[39;49m\u001b[39m'\u001b[39;49m)[\u001b[39m0\u001b[39;49m]\u001b[39m.\u001b[39mtext\u001b[39m.\u001b[39mstrip())\n",
      "\u001b[1;31mTypeError\u001b[0m: 'NoneType' object is not subscriptable"
     ]
    }
   ],
   "source": [
    "name = []\n",
    "rating = []\n",
    "review = []\n",
    "type =[]\n",
    "number_employee = []\n",
    "sal = []\n",
    "\n",
    "#so now we will start a loop for extract each company:\n",
    "for i in company:\n",
    "   name.append(i.find('h2').text.strip())\n",
    "   rating.append(i.find('p',class_='rating').text.strip())\n",
    "   review.append(i.find('a',class_='review-count').text.strip())\n",
    "   type.append(i.find('p',class_='infoEntity').text.strip())\n",
    "   number_employee.append(i.find_all('p', class_='infoEntity')[3].text.strip())\n",
    "   "
   ]
  },
  {
   "cell_type": "markdown",
   "metadata": {},
   "source": []
  },
  {
   "cell_type": "code",
   "execution_count": 81,
   "metadata": {},
   "outputs": [
    {
     "name": "stdout",
     "output_type": "stream",
     "text": [
      "['TCS', 'Accenture', 'Cognizant', 'ICICI Bank', 'Wipro', 'HDFC Bank', 'Capgemini', 'HCL Technologies', 'Infosys', 'Tech Mahindra', 'Genpact', 'Axis Bank', 'IBM', 'Amazon', 'Concentrix Corpo...', 'Larsen & Toubro ...', 'Reliance jio', 'Vodafone Idea', 'HDB Financial Se...', 'Teleperformance', 'Kotak Mahindra B...', 'Reliance Industr...', 'Bharti Airtel', 'Deloitte', 'Tata Motors', 'Reliance Retail', 'Mahindra & Mahin...', 'WNS', 'IndusInd Bank', 'DXC Technology']\n",
      "['3.9', '4.2', '4.0', '4.0', '3.9', '4.0', '3.9', '3.9', '4.0', '3.8', '4.0', '3.9', '4.2', '4.2', '4.1', '4.1', '4.0', '4.3', '4.0', '3.6', '3.9', '4.1', '4.1', '4.1', '4.1', '4.1', '4.1', '3.7', '3.8', '3.9']\n",
      "['(45.4k Reviews)', '(29.7k Reviews)', '(26.9k Reviews)', '(33.5k Reviews)', '(25.3k Reviews)', '(35.1k Reviews)', '(21.9k Reviews)', '(21.5k Reviews)', '(25.6k Reviews)', '(19.8k Reviews)', '(20k Reviews)', '(17.7k Reviews)', '(14.7k Reviews)', '(14.3k Reviews)', '(14.2k Reviews)', '(19.9k Reviews)', '(13.7k Reviews)', '(13.2k Reviews)', '(12.4k Reviews)', '(10.1k Reviews)', '(12.8k Reviews)', '(39.1k Reviews)', '(12k Reviews)', '(8.6k Reviews)', '(8.5k Reviews)', '(13.4k Reviews)', '(19.9k Reviews)', '(6.5k Reviews)', '(6.4k Reviews)', '(6.6k Reviews)']\n",
      "['Public', 'Public', 'Private', 'Public', 'Public', 'Public', 'Public', 'Public', 'Public', 'Public', 'Private', 'Public', 'Public', 'Private', 'Public', 'Public', 'Public', 'Public', 'Private', 'Private', 'Public', 'Public', 'Public', 'Private', 'Public', 'Private', 'Public', 'Private', 'Public', 'Public']\n",
      "['1 Lakh+ Employees (India)', '1 Lakh+ Employees (India)', '1 Lakh+ Employees (India)', '50k-1 Lakh Employees (India)', '1 Lakh+ Employees (India)', '1 Lakh+ Employees (India)', '1 Lakh+ Employees (India)', '1 Lakh+ Employees (India)', '1 Lakh+ Employees (India)', '50k-1 Lakh Employees (India)', '50k-1 Lakh Employees (India)', '50k-1 Lakh Employees (India)', '50k-1 Lakh Employees (India)', '1 Lakh+ Employees (India)', '10k-50k Employees (India)', '10k-50k Employees (India)', '10k-50k Employees (India)', '10k-50k Employees (India)', '1 Lakh+ Employees (India)', '50k-1 Lakh Employees (India)', '10k-50k Employees (India)', '1 Lakh+ Employees (India)', '5k-10k Employees (India)', '10k-50k Employees (India)', '50k-1 Lakh Employees (India)', '1 Lakh+ Employees (India)', '10k-50k Employees (India)', '10k-50k Employees (India)', '10k-50k Employees (India)', '10k-50k Employees (India)']\n"
     ]
    }
   ],
   "source": [
    "print(name)\n",
    "print(rating)\n",
    "print(review)\n",
    "print(type)\n",
    "print(number_employee)"
   ]
  },
  {
   "cell_type": "code",
   "execution_count": 101,
   "metadata": {},
   "outputs": [],
   "source": [
    "Company_name = []\n",
    "Rating = []\n",
    "Review = []\n",
    "Number_of_Employee = []\n",
    "Type = []\n",
    "Old = []\n"
   ]
  },
  {
   "cell_type": "code",
   "execution_count": 102,
   "metadata": {},
   "outputs": [],
   "source": [
    "\n",
    "for i in range(1,31): \n",
    "    newweb = requests.get('https://www.ambitionbox.com/list-of-companies?page={}'.format(i),headers=headers).text\n",
    "    s = BeautifulSoup(newweb,'html.parser')\n",
    "    comp = s.find_all('div', class_='company-content-wrapper')\n",
    "    for j in comp:\n",
    "        Company_name.append(j.find('h2').text.strip())\n",
    "        Rating.append(j.find('p',class_='rating').text.strip())\n",
    "        Review.append(j.find('a',class_='review-count').text.strip())\n",
    "        Type.append(j.find('p',class_='infoEntity').text.strip())\n",
    "        try:\n",
    "             Old.append(j.find_all('p', class_='infoEntity')[2].text.strip())\n",
    "        except:\n",
    "            Old.append(np.nan)\n",
    "        try:\n",
    "            Number_of_Employee.append(j.find_all('p', class_='infoEntity')[3].text.strip())\n",
    "        except:\n",
    "            Number_of_Employee.append(np.nan)\n",
    "\n"
   ]
  },
  {
   "cell_type": "code",
   "execution_count": 114,
   "metadata": {},
   "outputs": [],
   "source": [
    "Dictionary = {'COMPANY':Company_name,'Rating':Rating,'Review':Review,'Type':Type,'Old':Old,'No._of_employes':Number_of_Employee}\n",
    "finalp = pd.DataFrame(Dictionary)\n",
    "finalp.to_csv('company_data.csv',index= False)\n"
   ]
  }
 ],
 "metadata": {
  "kernelspec": {
   "display_name": "Python 3.10.2 64-bit",
   "language": "python",
   "name": "python3"
  },
  "language_info": {
   "codemirror_mode": {
    "name": "ipython",
    "version": 3
   },
   "file_extension": ".py",
   "mimetype": "text/x-python",
   "name": "python",
   "nbconvert_exporter": "python",
   "pygments_lexer": "ipython3",
   "version": "3.10.2"
  },
  "orig_nbformat": 4,
  "vscode": {
   "interpreter": {
    "hash": "abdf3a67ef29fa258ce944f04b0e9fa85bdd3fdaff7110ce4a594ab728ea07bf"
   }
  }
 },
 "nbformat": 4,
 "nbformat_minor": 2
}
