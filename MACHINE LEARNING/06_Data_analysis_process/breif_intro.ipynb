{
 "cells": [
  {
   "cell_type": "markdown",
   "metadata": {},
   "source": [
    "DATA ANALYSIS\n",
    "\n",
    "1. asking question\n",
    "2. data wrangling\n",
    "3. EDA exploratory data analysis\n",
    "4. drawing conclusions\n",
    "5. communicate results\n"
   ]
  },
  {
   "cell_type": "markdown",
   "metadata": {},
   "source": [
    "Asking questions\n",
    "1. What features will contribute to my analysis?\n",
    "2. what features are not important for my analysis?\n",
    "3. which of the features have a strong correlation?\n",
    "4. do i need data preprocessing?\n",
    "5. what kind of feature manipulation/engineering is required?\n",
    "\n",
    "6. how can you ask better questions? -- subject matter expertise and Experience"
   ]
  },
  {
   "cell_type": "markdown",
   "metadata": {},
   "source": [
    "DATA WRANGLING/Munging\n",
    "1. Gathering data\n",
    "- CSV FILE\n",
    "- API\n",
    "- Web Scraping\n",
    "- Databases\n",
    "\n",
    "2. Assessing Data\n",
    "- getting the gernal idea of the data that how it looks and what are missing values and so on...\n",
    "\n",
    "3. Cleaning Data\n",
    "- missing data, remove duplicates, incorrect data type\n",
    "\n"
   ]
  },
  {
   "cell_type": "markdown",
   "metadata": {},
   "source": [
    "EDA (exploratory data)\n",
    "\n",
    "1. explore your data\n",
    "- finding correlation and covariance\n",
    "- doing univariatte and multivariate analysis\n",
    "- plotting graphs\n",
    "\n",
    "2. argument your data\n",
    "- changing or modify the data according to the need\n",
    "- like removing outliers, merging dataframes, adding new column"
   ]
  },
  {
   "cell_type": "markdown",
   "metadata": {},
   "source": [
    "Drawing conclusion\n",
    "and\n",
    "communicating results"
   ]
  },
  {
   "cell_type": "markdown",
   "metadata": {},
   "source": []
  }
 ],
 "metadata": {
  "kernelspec": {
   "display_name": "Python 3.10.2 64-bit",
   "language": "python",
   "name": "python3"
  },
  "language_info": {
   "name": "python",
   "version": "3.10.2"
  },
  "orig_nbformat": 4,
  "vscode": {
   "interpreter": {
    "hash": "abdf3a67ef29fa258ce944f04b0e9fa85bdd3fdaff7110ce4a594ab728ea07bf"
   }
  }
 },
 "nbformat": 4,
 "nbformat_minor": 2
}
